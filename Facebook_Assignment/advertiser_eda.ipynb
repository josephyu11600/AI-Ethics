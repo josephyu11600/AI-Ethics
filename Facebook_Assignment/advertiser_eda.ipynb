{
 "cells": [
  {
   "cell_type": "code",
   "execution_count": 40,
   "id": "8ab5c629",
   "metadata": {},
   "outputs": [],
   "source": [
    "import json\n",
    "from collections import defaultdict\n",
    "import random"
   ]
  },
  {
   "cell_type": "code",
   "execution_count": 33,
   "id": "f748bba3",
   "metadata": {},
   "outputs": [],
   "source": [
    "with open('./data/targeted_advertisers_labeled.json', 'r', encoding='utf-8') as f:\n",
    "    advertisers_labeled = json.load(f)"
   ]
  },
  {
   "cell_type": "code",
   "execution_count": 34,
   "id": "7ba42e13",
   "metadata": {},
   "outputs": [],
   "source": [
    "all_advertisers = advertisers_labeled['advertisers']\n",
    "category_to_advertiser = defaultdict(list)\n",
    "\n",
    "for advertiser in all_advertisers:\n",
    "    category_to_advertiser[advertiser['category']].append(advertiser['name'])"
   ]
  },
  {
   "cell_type": "code",
   "execution_count": 41,
   "id": "4bde0407",
   "metadata": {},
   "outputs": [
    {
     "data": {
      "text/plain": [
       "1557"
      ]
     },
     "execution_count": 41,
     "metadata": {},
     "output_type": "execute_result"
    }
   ],
   "source": [
    "len(all_advertisers)"
   ]
  },
  {
   "cell_type": "code",
   "execution_count": 37,
   "id": "916d7ea7",
   "metadata": {},
   "outputs": [],
   "source": [
    "category_sample_advertisers = defaultdict(list)\n",
    "for category, advertisers in category_to_advertiser.items():\n",
    "    if category == \"Miscellaneous\":\n",
    "        continue\n",
    "    sample_size = min(20, len(advertisers))\n",
    "    category_sample_advertisers[category] = random.sample(advertisers, sample_size)"
   ]
  },
  {
   "cell_type": "code",
   "execution_count": 38,
   "id": "52cc9b24",
   "metadata": {},
   "outputs": [
    {
     "name": "stdout",
     "output_type": "stream",
     "text": [
      "Category: Technology, Sampled Advertisers (20): ['nanoleaf', 'norton', 'anthropic', 'razer', 'athlete exchange', 'meta for business', 'notion', 'merkle data partner', 'the rundown ai', 'corsair', 'acxiom', 'campaign adcloud', 'adparlor', 'zapier', 'angler ai', 'lexar', 'wiland data targeting', 'memoryos', 'waymo', 'wiland data strategies']\n",
      "Category: Food, Sampled Advertisers (20): ['blaze pizza', 'handle the heat', 'hangukvegan', 'eatclean', 'guinness', 'factor', 'bush brothers company', 'hellofresh', 'gong cha', 'flemings prime steakhouse & wine bar', 'the hershey company', 'original kabob factory business manager', 'egghead sando cafe', 'grubhub', 'chamberlain coffee', 'savvy by shopmium', 'shef', 'dietz watson', 'dreamfarmplantlovers', 'papa johns pizza']\n",
      "Category: Retail, Sampled Advertisers (20): ['dr squatch', 'living spaces', 'groupon inc', 'montreal weights', 'sculpd', 'il homestores', 'tshirt kingdom b55', 'ashley', 'toyota fan zone', 'haworth inc', 'guitar center', 'purple', 'our place', 'secretlab', 'sams club', 'wish', 'sally beauty', 'pg philippines', 'nectar sleep', 'bloomingdales']\n",
      "Category: Travel, Sampled Advertisers (20): ['ski butlers', 'aaa', 'delta air lines', 'discover the palm beaches', 'drive toyota', 'ihg hotels resorts', 'drury hotels', 'tripadvisor', 'viator', 'autocamp', 'extended stay america', 'vrbo', 'the lenox hotel boston', 'lionsback resort', 'aaa western and central new york', 'aaa south jersey', 'jtb', 'airbnb', 'greenvillespartanburg international airport', 'aaa the auto club group']\n",
      "Category: Entertainment, Sampled Advertisers (20): ['all day all night events', 'bleacher report', 'nba', 'the independent', 'mojo country club', 'espn', 'directv', 'reach ni', 'wmx', 'taketwo interactive', 'live nation sponsorship', 'thunderwolf media', 'walt disney world', 'beachlife festival', 'nexon america', 'flyquest', 'segerstrom center for the arts', 'contenidos el rey', 'the new york times', 'disney books']\n",
      "Category: Financial Services, Sampled Advertisers (20): ['nibbles pet credit card', 'klarna', 'intuit turbotax', 'wealthy exile', 'lifevest insurance', 'credlize promotora', 'el show de andres gutierrez', 'changed app', 'visa', 'real estate investor couple', 'joy wallet finance', 'krost', 'axos bank', 'publiccom', 'chase', 'tenx', 'santander bank us', 'windfall data', 'amica insurance', 'ethos']\n",
      "Category: Fashion, Sampled Advertisers (20): ['greats brand', 'protect socks', 'hockerty', 'brooks running', 'balance kimonos', 'nike mena', 'fitsyou', 'freya test account', 'saks fifth avenue', 'edikted', 'axel arigato', 'parks project', 'fear of god', 'marie nicole clothing', 'harajukustreetwear', 'flight club', 'brand collective pty ltd', 'stitch fix', 'tommy john', 'birdwell beach britches']\n",
      "Category: Health, Sampled Advertisers (20): ['smiledirectclub', 'real chemistry', 'slimfast', 'relaxe', 'cardon', 'bsn', 'novartis clinical trials', 'cigna healthcare', 'houston methodist', 'les mills', 'muhammads boxing and martial arts center', 'dripdrop', 'st jude childrens research hospital', 'medscape', 'mycosan hong kong', 'huggies', 'endless pools', 'ymca of greater richmond', 'health union llc', 'boxing fitness']\n",
      "Category: Education, Sampled Advertisers (20): ['canvas lms', 'gale media', 'codecademy', 'strayer university', 'claremont graduate university', 'tonyjeffries', 'mouratoglou tennis academy', 'aarp driver safety', 'university of portland', 'ruffalo noel levitz', 'masterclass', 'unidays', 'dk books', 'sounds true', 'coursera', 'deepstash business', 'jiu jitsu legacy', 'iep instituto europeo de posgrado', 'university of colorado boulder', 'life surge']\n"
     ]
    }
   ],
   "source": [
    "for category, sampled_advertisers in category_sample_advertisers.items():\n",
    "    print(f\"Category: {category}, Sampled Advertisers ({len(sampled_advertisers)}): {sampled_advertisers}\")"
   ]
  },
  {
   "cell_type": "code",
   "execution_count": 39,
   "id": "f22c04ea",
   "metadata": {},
   "outputs": [],
   "source": [
    "with open('./data/category_sample_advertisers.json', 'w', encoding='utf-8') as f:\n",
    "    json.dump(category_sample_advertisers, f, indent=4)"
   ]
  }
 ],
 "metadata": {
  "language_info": {
   "name": "python"
  }
 },
 "nbformat": 4,
 "nbformat_minor": 5
}
